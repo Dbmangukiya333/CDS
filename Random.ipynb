{
 "cells": [
  {
   "cell_type": "code",
   "execution_count": 13,
   "id": "2eb3a946-1bf5-45a7-a7dd-4b9239e06150",
   "metadata": {},
   "outputs": [
    {
     "name": "stdin",
     "output_type": "stream",
     "text": [
      "Enter the number: 11\n"
     ]
    },
    {
     "name": "stdout",
     "output_type": "stream",
     "text": [
      "11\n",
      "Random  no is: 64\n",
      "Try again later\n"
     ]
    }
   ],
   "source": [
    "num1=int(input(\"Enter the number:\"))\n",
    "print(num1)\n",
    "\n",
    "import random\n",
    "num = random.randint(1,100)\n",
    "print(\"Random  no is:\",num)\n",
    "\n",
    "\n",
    "if num == num1 :\n",
    "    print(\"You are right\")\n",
    "else:\n",
    "    print(\"Try again later\")"
   ]
  },
  {
   "cell_type": "code",
   "execution_count": null,
   "id": "9d969f72-2b37-4ac8-8fad-b77d436b02f4",
   "metadata": {},
   "outputs": [],
   "source": []
  }
 ],
 "metadata": {
  "kernelspec": {
   "display_name": "Python 3 (ipykernel)",
   "language": "python",
   "name": "python3"
  },
  "language_info": {
   "codemirror_mode": {
    "name": "ipython",
    "version": 3
   },
   "file_extension": ".py",
   "mimetype": "text/x-python",
   "name": "python",
   "nbconvert_exporter": "python",
   "pygments_lexer": "ipython3",
   "version": "3.12.7"
  }
 },
 "nbformat": 4,
 "nbformat_minor": 5
}
